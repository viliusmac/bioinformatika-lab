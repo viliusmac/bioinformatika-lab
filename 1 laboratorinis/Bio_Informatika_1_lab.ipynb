{
  "nbformat": 4,
  "nbformat_minor": 0,
  "metadata": {
    "colab": {
      "provenance": [],
      "collapsed_sections": []
    },
    "kernelspec": {
      "name": "python3",
      "display_name": "Python 3"
    },
    "language_info": {
      "name": "python"
    }
  },
  "cells": [
    {
      "cell_type": "markdown",
      "source": [
        "Bioinformatikos lab.1 darbas \n",
        "Vilius Macijauskas - 1911074\n",
        "\n",
        "Sekos turi būti sukeltos į Google drive:\n",
        "/content/drive/MyDrive/bioinformatika1"
      ],
      "metadata": {
        "id": "315O4Jk40qo1"
      }
    },
    {
      "cell_type": "code",
      "source": [
        "import itertools\n",
        "!pip install biopython\n",
        "from Bio.Seq import Seq\n",
        "from Bio import SeqIO\n",
        "from google.colab import drive\n",
        "drive.mount('/content/drive/')"
      ],
      "metadata": {
        "colab": {
          "base_uri": "https://localhost:8080/"
        },
        "id": "m5qYfetQrY2z",
        "outputId": "8460e276-c774-43f1-c816-4f0fefeedcbf"
      },
      "execution_count": 2,
      "outputs": [
        {
          "output_type": "stream",
          "name": "stdout",
          "text": [
            "Looking in indexes: https://pypi.org/simple, https://us-python.pkg.dev/colab-wheels/public/simple/\n",
            "Requirement already satisfied: biopython in /usr/local/lib/python3.7/dist-packages (1.79)\n",
            "Requirement already satisfied: numpy in /usr/local/lib/python3.7/dist-packages (from biopython) (1.21.6)\n",
            "Drive already mounted at /content/drive/; to attempt to forcibly remount, call drive.mount(\"/content/drive/\", force_remount=True).\n"
          ]
        }
      ]
    },
    {
      "cell_type": "code",
      "source": [
        "START_CODONS = ['ATG']\n",
        "END_CODONS = ['TAG', 'TAA', 'TGA']\n",
        "LETTERS = ['A','T','C','G']\n",
        "\n",
        "def generateDicodons(list):\n",
        "  dicodons = []\n",
        "  for firstC in list:\n",
        "    for secondC in list:\n",
        "      dicodons.append(firstC + secondC)\n",
        "  return dicodons\n",
        "\n",
        "ALL_CODONS = [''.join(comb) for comb in itertools.product(LETTERS, repeat=3)]\n",
        "ALL_DICODONS = generateDicodons(ALL_CODONS)"
      ],
      "metadata": {
        "id": "9DX72qYAp6fC"
      },
      "execution_count": 3,
      "outputs": []
    },
    {
      "cell_type": "code",
      "source": [
        "# Šis metodas nebuvo panaudotas sekų ieškojime, nes paprastesnis variantas buvo tai padaryti einant per sekas pirmą kartą (pagal atsakymą iš MS Teams)\n",
        "# Palieku, kad užpildytų pirmą punktą\n",
        "def findCodonPositions(sequence):\n",
        "  start_codons = {'frame0': [], 'frame1': [], 'frame2': []}\n",
        "  end_codons = {'frame0': [], 'frame1': [], 'frame2': []}\n",
        "\n",
        "  seq_pos = 0\n",
        "  current_frame = 0\n",
        "  while seq_pos < len(sequence) - 2:\n",
        "\n",
        "    if sequence[seq_pos] + sequence[seq_pos + 1] + sequence[seq_pos + 2] in START_CODONS:\n",
        "      start_codons.get('frame' + str(current_frame)).append(seq_pos)\n",
        "\n",
        "    if sequence[seq_pos] + sequence[seq_pos + 1] + sequence[seq_pos + 2] in END_CODONS:\n",
        "      end_codons.get('frame' + str(current_frame)).append(seq_pos)\n",
        "\n",
        "    current_frame = (current_frame + 1) % 3\n",
        "    seq_pos += 1\n",
        "\n",
        "  return start_codons, end_codons"
      ],
      "metadata": {
        "id": "kiebPfq4qIgH"
      },
      "execution_count": 4,
      "outputs": []
    },
    {
      "cell_type": "code",
      "source": [
        "def findPossibleCombinations(sequence):\n",
        "  combinations = {'frame0': [], 'frame1': [], 'frame2': []}\n",
        "\n",
        "  seq_pos = 0\n",
        "  current_frame = 0\n",
        "  start_pos = [None,None,None]\n",
        "  while seq_pos < len(sequence) - 2:\n",
        "\n",
        "    if sequence[seq_pos] + sequence[seq_pos + 1] + sequence[seq_pos + 2] in START_CODONS:\n",
        "      if start_pos[current_frame] == None:\n",
        "        start_pos[current_frame] = seq_pos\n",
        "\n",
        "    if sequence[seq_pos] + sequence[seq_pos + 1] + sequence[seq_pos + 2] in END_CODONS:\n",
        "      if start_pos[current_frame] != None:\n",
        "        combinations.get('frame' + str(current_frame)).append({'start': start_pos[current_frame], 'end': seq_pos})\n",
        "        start_pos[current_frame] = None\n",
        "\n",
        "    current_frame = (current_frame + 1) % 3\n",
        "    seq_pos += 1\n",
        "\n",
        "  return combinations"
      ],
      "metadata": {
        "id": "WwJCM0v-zMiH"
      },
      "execution_count": 5,
      "outputs": []
    },
    {
      "cell_type": "code",
      "source": [
        "def filterLongPairs(combinations, min_length):\n",
        "  filtered_combinations = {'frame0': [], 'frame1': [], 'frame2': []}\n",
        "\n",
        "  for frame in range(0, 3):\n",
        "    for combo in combinations.get('frame' + str(frame)):\n",
        "      if combo.get('end') - combo.get('start') + 3 > min_length:\n",
        "        filtered_combinations.get('frame' + str(frame)).append(combo)\n",
        "\n",
        "  return filtered_combinations"
      ],
      "metadata": {
        "id": "y0r4X3UdGo2Z"
      },
      "execution_count": 6,
      "outputs": []
    },
    {
      "cell_type": "code",
      "source": [
        "def extractSequences(sequence, combinations):\n",
        "  sequences = []\n",
        "\n",
        "  for frame in range(0, 3):\n",
        "    for combo in combinations.get('frame' + str(frame)):\n",
        "      sequences.append(sequence[combo.get('start') + 3:combo.get('end')])\n",
        "\n",
        "  return sequences"
      ],
      "metadata": {
        "id": "V5ju2uza369F"
      },
      "execution_count": 7,
      "outputs": []
    },
    {
      "cell_type": "code",
      "source": [
        "def findCodonsFrequency(sequences):\n",
        "  frequencies = {}\n",
        "  codonCount = 0\n",
        "  i = 0\n",
        "\n",
        "  for codon in ALL_CODONS:\n",
        "      frequencies[codon] = 0\n",
        "\n",
        "  for clipping in sequences:\n",
        "    while i < len(clipping) - 2:\n",
        "      codon = clipping[i:i + 3]\n",
        "      frequencies[codon] += 1\n",
        "      codonCount += 1\n",
        "      i += 1\n",
        "\n",
        "  for codon in ALL_CODONS:\n",
        "      frequencies[codon] = round(frequencies[codon] / codonCount, 3)\n",
        "\n",
        "  return frequencies\n",
        "\n",
        "def findDicodonsFrequency(sequences):\n",
        "  frequencies = {}\n",
        "  dicodonCount = 0\n",
        "  i = 0\n",
        "\n",
        "  for dicodon in ALL_DICODONS:\n",
        "    frequencies[dicodon] = 0\n",
        "\n",
        "  for clipping in sequences:\n",
        "    while i < len(clipping) - 5:\n",
        "      dicodon = clipping[i:i + 6]\n",
        "      frequencies[dicodon] += 1\n",
        "      dicodonCount += 1\n",
        "      i += 1\n",
        "\n",
        "  for dicodon in ALL_DICODONS:\n",
        "      frequencies[dicodon] = round(frequencies[dicodon] / dicodonCount, 3)\n",
        "\n",
        "  return frequencies"
      ],
      "metadata": {
        "id": "JdGXwUmmz5cO"
      },
      "execution_count": 8,
      "outputs": []
    },
    {
      "cell_type": "code",
      "source": [
        "def compareFrequencies(frequencies1, frequencies2, codons):\n",
        "  distance = 0\n",
        "  for codon in codons:\n",
        "    distance += abs(frequencies1[codon] - frequencies2[codon])\n",
        "  return distance"
      ],
      "metadata": {
        "id": "-VEDjaPe5rOy"
      },
      "execution_count": 9,
      "outputs": []
    },
    {
      "cell_type": "code",
      "source": [
        "def computeFrequencies(sequence):\n",
        "  reverse_sequence = str(Seq(sequence).reverse_complement())\n",
        "  sequence = str(sequence)\n",
        "\n",
        "  # surandame sekų pradžias ir pabaigas skirtinguose frame'uose, kurių pradžios yra toliausiai nuo pabaigų\n",
        "  combinations = findPossibleCombinations(sequence);\n",
        "  rev_combinations = findPossibleCombinations(reverse_sequence);\n",
        "\n",
        "  # atfiltruojame per trumpas sekas\n",
        "  combinations = filterLongPairs(combinations, 100)\n",
        "  rev_combinations = filterLongPairs(rev_combinations, 100)\n",
        "\n",
        "  # iš sekos sudaromos iškarpos\n",
        "  sequences = extractSequences(sequence, combinations)\n",
        "  rev_sequences = extractSequences(sequence, rev_combinations)\n",
        "\n",
        "  # randami kodonų dažniai \n",
        "  codon_frequencies = findCodonsFrequency(sequences + rev_sequences)\n",
        "\n",
        "  # randami dikodonų dažniai \n",
        "  dicodon_frequencies = findDicodonsFrequency(sequences + rev_sequences)\n",
        "\n",
        "  return {'codon_frequencies': codon_frequencies, 'dicodon_frequencies': dicodon_frequencies}\n"
      ],
      "metadata": {
        "id": "xH5XDjX47p7S"
      },
      "execution_count": 15,
      "outputs": []
    },
    {
      "cell_type": "code",
      "source": [
        "# Buvo naudojamas surikiuoti kodonų/dikodonų sąrašus pagal dydžius ataskaitai\n",
        "def findMostCommonStrings(frequencies, all_strings):\n",
        "  sorted_list = []\n",
        "  for x in all_strings:\n",
        "    sorted_list.append((x, frequencies.get(x)))\n",
        "  return sorted(sorted_list, key = lambda x: x[1], reverse = True)"
      ],
      "metadata": {
        "id": "raGbtuK0eSRN"
      },
      "execution_count": 16,
      "outputs": []
    },
    {
      "cell_type": "code",
      "source": [
        "data = [{'filename':'bacterial1.fasta','virus':'Lactococcus_phage'},\n",
        "        {'filename':'bacterial2.fasta','virus':'KM389305.1'},\n",
        "        {'filename':'bacterial3.fasta','virus':'NC_028697.1'},\n",
        "        {'filename':'bacterial4.fasta','virus':'KC821626.1'},\n",
        "        {'filename':'mamalian1.fasta','virus':'coronavirus'},\n",
        "        {'filename':'mamalian2.fasta','virus':'adenovirus'},\n",
        "        {'filename':'mamalian3.fasta','virus':'U18337.1'},\n",
        "        {'filename':'mamalian4.fasta','virus':'herpesvirus'}]\n",
        "        \n",
        "frequencies = {}\n",
        "\n",
        "for data_element in data:\n",
        "  sequence = SeqIO.read(\"/content/drive/MyDrive/bioinformatika1/\" + data_element['filename'], \"fasta\")\n",
        "  frequencies[data_element['virus']] = computeFrequencies(sequence.seq)"
      ],
      "metadata": {
        "id": "V9O0qfKABLSK"
      },
      "execution_count": 17,
      "outputs": []
    },
    {
      "cell_type": "code",
      "source": [
        "for x in data:\n",
        "  print(x['virus'],end = \" \")\n",
        "  for y in data:\n",
        "    print(round(compareFrequencies(frequencies[x['virus']]['codon_frequencies'],frequencies[y['virus']]['codon_frequencies'], ALL_CODONS),3),end = \" \")\n",
        "  print()"
      ],
      "metadata": {
        "colab": {
          "base_uri": "https://localhost:8080/"
        },
        "id": "q0p6E9rQFo5j",
        "outputId": "39d86858-54a4-4f41-dbc5-6338f71f649f"
      },
      "execution_count": 20,
      "outputs": [
        {
          "output_type": "stream",
          "name": "stdout",
          "text": [
            "Lactococcus_phage 0.0 0.426 0.285 0.366 0.332 0.426 0.43 0.67 \n",
            "KM389305.1 0.426 0.0 0.419 0.606 0.466 0.28 0.598 0.39 \n",
            "NC_028697.1 0.285 0.419 0.0 0.463 0.329 0.353 0.525 0.607 \n",
            "KC821626.1 0.366 0.606 0.463 0.0 0.4 0.61 0.424 0.824 \n",
            "coronavirus 0.332 0.466 0.329 0.4 0.0 0.408 0.38 0.664 \n",
            "adenovirus 0.426 0.28 0.353 0.61 0.408 0.0 0.59 0.35 \n",
            "U18337.1 0.43 0.598 0.525 0.424 0.38 0.59 0.0 0.8 \n",
            "herpesvirus 0.67 0.39 0.607 0.824 0.664 0.35 0.8 0.0 \n"
          ]
        }
      ]
    },
    {
      "cell_type": "code",
      "source": [
        "for x in data:\n",
        "  print(x['virus'],end = \" \")\n",
        "  for y in data:\n",
        "    print(round(compareFrequencies(frequencies[x['virus']]['dicodon_frequencies'],frequencies[y['virus']]['dicodon_frequencies'], ALL_DICODONS),3),end = \" \")\n",
        "  print()"
      ],
      "metadata": {
        "colab": {
          "base_uri": "https://localhost:8080/"
        },
        "id": "uRNMctDkF8tT",
        "outputId": "88d0d127-fa9f-43cc-864d-b5b71e8d9de2"
      },
      "execution_count": 21,
      "outputs": [
        {
          "output_type": "stream",
          "name": "stdout",
          "text": [
            "Lactococcus_phage 0.0 1.689 1.17 1.044 0.982 1.229 1.336 1.859 \n",
            "KM389305.1 1.689 0.0 1.801 1.827 1.723 1.742 1.829 2.064 \n",
            "NC_028697.1 1.17 1.801 0.0 1.23 1.06 1.333 1.47 1.923 \n",
            "KC821626.1 1.044 1.827 1.23 0.0 0.872 1.297 1.258 1.947 \n",
            "coronavirus 0.982 1.723 1.06 0.872 0.0 1.119 1.18 1.793 \n",
            "adenovirus 1.229 1.742 1.333 1.297 1.119 0.0 1.493 1.744 \n",
            "U18337.1 1.336 1.829 1.47 1.258 1.18 1.493 0.0 2.091 \n",
            "herpesvirus 1.859 2.064 1.923 1.947 1.793 1.744 2.091 0.0 \n"
          ]
        }
      ]
    }
  ]
}